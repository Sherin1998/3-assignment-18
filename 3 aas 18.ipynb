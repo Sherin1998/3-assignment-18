{
 "cells": [
  {
   "cell_type": "code",
   "execution_count": null,
   "metadata": {},
   "outputs": [],
   "source": [
    "#1\n",
    "def filter_list(m):\n",
    "    a=[]\n",
    "    for i in m:\n",
    "        if(type(i)==int):\n",
    "             a.append(i)\n",
    "    return a\n",
    "l1=[1,2,'a','b']\n",
    "l2=[1,'a','b',0,15]\n",
    "l3=[1,2,'aaasf','l','123',123]\n",
    "print(filer_list(l1))\n"
   ]
  },
  {
   "cell_type": "code",
   "execution_count": null,
   "metadata": {},
   "outputs": [],
   "source": [
    "#2\n",
    "def reverse(x):\n",
    "    x.swapcase()\n",
    "    return x\n",
    "\n",
    "\n",
    "f='Hello WorlD'\n",
    "x=f[::-1]\n",
    "print(reverse(x))"
   ]
  },
  {
   "cell_type": "code",
   "execution_count": null,
   "metadata": {},
   "outputs": [],
   "source": [
    "#3\n",
    "l=[1,2,3,4,5,6,7,8]\n",
    "first,*middle,last=l\n",
    "print(first,last)\n",
    "print(*middle)"
   ]
  },
  {
   "cell_type": "code",
   "execution_count": null,
   "metadata": {},
   "outputs": [],
   "source": [
    "#4\n",
    "def fact1(x):\n",
    "    \n",
    "    if(x!=0):\n",
    "        return x*fact1(x-1)\n",
    "    else:\n",
    "        return 1\n",
    "\n",
    "\n",
    "x=int(input())\n",
    "fact1(x)"
   ]
  },
  {
   "cell_type": "code",
   "execution_count": null,
   "metadata": {},
   "outputs": [],
   "source": [
    "#5\n",
    "def fun1(l,x):\n",
    "    for i in range(len(l)):\n",
    "        if(l[i]==x):\n",
    "            l.remove(x)\n",
    "            l.append(x)\n",
    "    return l\n",
    "           \n",
    "            \n",
    "        \n",
    "\n",
    "\n",
    "\n",
    "l=['a','a','a','b']\n",
    "x=input()\n",
    "print(fun1(l,x))                            #[7,9,8,1,2,3,4],[1,3,2,4,4,1],['a','a','a','b']"
   ]
  },
  {
   "cell_type": "code",
   "execution_count": null,
   "metadata": {},
   "outputs": [],
   "source": []
  }
 ],
 "metadata": {
  "kernelspec": {
   "display_name": "Python 3",
   "language": "python",
   "name": "python3"
  },
  "language_info": {
   "codemirror_mode": {
    "name": "ipython",
    "version": 3
   },
   "file_extension": ".py",
   "mimetype": "text/x-python",
   "name": "python",
   "nbconvert_exporter": "python",
   "pygments_lexer": "ipython3",
   "version": "3.8.3"
  }
 },
 "nbformat": 4,
 "nbformat_minor": 4
}
